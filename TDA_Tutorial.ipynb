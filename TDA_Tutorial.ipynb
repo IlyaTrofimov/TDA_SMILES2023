{
  "nbformat": 4,
  "nbformat_minor": 0,
  "metadata": {
    "colab": {
      "name": "TDA_Tutorial.ipynb",
      "provenance": [],
      "collapsed_sections": []
    },
    "kernelspec": {
      "name": "python3",
      "display_name": "Python 3"
    },
    "language_info": {
      "name": "python"
    }
  },
  "cells": [
    {
      "cell_type": "code",
      "execution_count": null,
      "metadata": {
        "id": "uYN8t6e4kXYW"
      },
      "outputs": [],
      "source": [
        "# Giotto-TDA (includes ripser parallel)\n",
        "# https://giotto-ai.github.io/gtda-docs/0.5.1/index.html\n",
        "#\n",
        "# scikit-tda (includes one-thread ripser)\n",
        "# https://scikit-tda.org/\n",
        "#\n",
        "# Ripser++ (GPU)\n",
        "# https://github.com/simonzhang00/ripser-plusplus\n",
        "#\n",
        "# Credits to: https://github.com/lizliz (Elizabeth Munch), https://github.com/giotto-ai/giotto-tda/tree/master/examples (EPFL)"
      ]
    },
    {
      "cell_type": "code",
      "source": [
        "!pip install scikit-tda"
      ],
      "metadata": {
        "id": "O6JiKiHQ7p5j"
      },
      "execution_count": null,
      "outputs": []
    },
    {
      "cell_type": "code",
      "source": [
        "!pip install teaspoon"
      ],
      "metadata": {
        "id": "dSsbbs8A7qhw"
      },
      "execution_count": null,
      "outputs": []
    },
    {
      "cell_type": "code",
      "source": [
        "# Basic imports \n",
        "import numpy as np\n",
        "import matplotlib.pyplot as plt\n",
        "import matplotlib.gridspec as gridspec\n",
        "import networkx as nx\n",
        "#from IPython.display import Video\n",
        "\n",
        "# scikit-tda imports..... Install all with -> pip install scikit-tda\n",
        "#--- this is the main persistence computation workhorse\n",
        "import ripser\n",
        "# from persim import plot_diagrams\n",
        "import persim\n",
        "# import persim.plot\n",
        "\n",
        "# teaspoon imports...... Install with -> pip install teaspoon\n",
        "#---these are for generating data and some drawing tools \n",
        "import teaspoon.MakeData.PointCloud as makePtCloud\n",
        "import teaspoon.TDA.Draw as Draw\n",
        "\n",
        "#---these are for generating time series network examples\n",
        "#from teaspoon.SP.network import ordinal_partition_graph\n",
        "#from teaspoon.TDA.PHN import PH_network\n",
        "#from teaspoon.SP.network_tools import make_network\n",
        "#from teaspoon.parameter_selection.MsPE import MsPE_tau\n",
        "#import teaspoon.MakeData.DynSysLib.DynSysLib as DSL"
      ],
      "metadata": {
        "id": "-m9oilUB7f6D"
      },
      "execution_count": null,
      "outputs": []
    },
    {
      "cell_type": "markdown",
      "source": [
        "### Noisy Circle"
      ],
      "metadata": {
        "id": "_LdNndUn8N1q"
      }
    },
    {
      "cell_type": "code",
      "source": [
        "r = 1\n",
        "R = 2\n",
        "P = makePtCloud.Annulus(N=200, r=r, R=R, seed=None) # teaspoon data generation\n",
        "plt.scatter(P[:,0],P[:,1])\n",
        "# print(P)\n",
        "# print(type(P))\n",
        "# print(P.shape)"
      ],
      "metadata": {
        "id": "TcHaNq868H96"
      },
      "execution_count": null,
      "outputs": []
    },
    {
      "cell_type": "code",
      "source": [
        "# Some quick code to draw stuff without showing all the matplotlib junk in the slides everytime. \n",
        "\n",
        "def drawTDAtutorial(P,diagrams, R = 2):\n",
        "    fig, axes = plt.subplots(nrows=1, ncols=3, figsize = (20,5))\n",
        "\n",
        "    # Draw point cloud \n",
        "    plt.sca(axes[0])\n",
        "    plt.title('Point Cloud')\n",
        "    plt.scatter(P[:,0],P[:,1])\n",
        "\n",
        "    # Draw diagrams\n",
        "    plt.sca(axes[1])\n",
        "    plt.title('0-dim Diagram')\n",
        "    Draw.drawDgm(diagrams[0])\n",
        "\n",
        "    plt.sca(axes[2])\n",
        "    plt.title('1-dim Diagram')\n",
        "    Draw.drawDgm(diagrams[1])\n",
        "    plt.axis([0,R,0,R])"
      ],
      "metadata": {
        "id": "3JSOY1V98MPo"
      },
      "execution_count": null,
      "outputs": []
    },
    {
      "cell_type": "code",
      "source": [
        "diagrams = ripser.ripser(P)['dgms']\n",
        "\n",
        "# Draw stuff\n",
        "drawTDAtutorial(P,diagrams)  # Script included in notebook for drawing"
      ],
      "metadata": {
        "id": "hzXAcGxw7i_T"
      },
      "execution_count": null,
      "outputs": []
    },
    {
      "cell_type": "markdown",
      "source": [
        "**Storage of diagrams**"
      ],
      "metadata": {
        "id": "by6PXGOD9vKn"
      }
    },
    {
      "cell_type": "code",
      "source": [
        "# Some discussion of how diagrams are stored \n",
        "data = ripser.ripser(P)\n",
        "# print(data.keys())\n",
        "# print(data['dgms'])\n",
        "data['dgms'][1]\n",
        "# len(data['dgms'])"
      ],
      "metadata": {
        "id": "rUhCm-TG_3W2"
      },
      "execution_count": null,
      "outputs": []
    },
    {
      "cell_type": "markdown",
      "source": [
        "### Random cube example"
      ],
      "metadata": {
        "id": "0r5mgQ72AFRm"
      }
    },
    {
      "cell_type": "code",
      "source": [
        "P = makePtCloud.Cube()\n",
        "diagrams = ripser.ripser(P)['dgms']\n",
        "\n",
        "# Draw stuff\n",
        "drawTDAtutorial(P,diagrams,R=0.8) # Script for drawing everything, code included in notebook"
      ],
      "metadata": {
        "id": "FJeqwj-b_21n"
      },
      "execution_count": null,
      "outputs": []
    },
    {
      "cell_type": "markdown",
      "source": [
        "### Double noisy circle"
      ],
      "metadata": {
        "id": "EaAa3uihACnP"
      }
    },
    {
      "cell_type": "code",
      "source": [
        "# Make a quick double circle\n",
        "\n",
        "def DoubleCircle(r1 = 1, R1 = 2, r2 = .8, R2 = 1.3, xshift = 3):\n",
        "    P = makePtCloud.Annulus(r = r1, R = R1)\n",
        "    Q = makePtCloud.Annulus(r = r2, R = R2)\n",
        "    Q[:,0] = Q[:,0] + xshift\n",
        "    P = np.concatenate((P, Q) )\n",
        "    return(P)\n",
        "\n",
        "P = DoubleCircle(r1 = 1, R1 = 2, r2 = .5, R2 = 1.3, xshift = 3) \n",
        "plt.scatter(P[:,0], P[:,1])"
      ],
      "metadata": {
        "id": "ggerYy62AOA-"
      },
      "execution_count": null,
      "outputs": []
    },
    {
      "cell_type": "code",
      "source": [
        "P = DoubleCircle(r1 = 1, R1 = 2, r2 = .5, R2 = 1.3, xshift = 3) # Code included in notebook\n",
        "diagrams = ripser.ripser(P)['dgms']\n",
        "\n",
        "# Draw stuff\n",
        "drawTDAtutorial(P,diagrams,R=2.5) # Script for drawing everything, code included in notebook"
      ],
      "metadata": {
        "id": "inX6RdIyAUX0"
      },
      "execution_count": null,
      "outputs": []
    },
    {
      "cell_type": "markdown",
      "source": [
        "### Torus"
      ],
      "metadata": {
        "id": "_k0G1LARvfJ0"
      }
    },
    {
      "cell_type": "code",
      "source": [
        "!pip install tadasets"
      ],
      "metadata": {
        "id": "NrGBxfgDsyGr"
      },
      "execution_count": null,
      "outputs": []
    },
    {
      "cell_type": "code",
      "source": [
        "import tadasets\n",
        "\n",
        "#torus = tadasets.torus(n=500, c=2, a=1, ambient=100, noise=0.01)\n",
        "torus = tadasets.torus(n=500, c=1, a=0.1, noise=0.01)"
      ],
      "metadata": {
        "id": "GdNdJqgEtaZb"
      },
      "execution_count": null,
      "outputs": []
    },
    {
      "cell_type": "code",
      "source": [
        "fig = plt.figure()\n",
        "\n",
        "ax1 = fig.add_subplot(1, 1, 1, projection = '3d')\n",
        "ax1.scatter(xs = torus[:, 0], ys = torus[:, 1], zs = torus[:, 2], s = 1, cmap = plt.cm.rainbow)\n",
        "\n",
        "ax1.view_init(25, 10)\n",
        "\n",
        "ax1.set_xlim(-3, 3)\n",
        "ax1.set_ylim(-3, 3)\n",
        "ax1.set_zlim(-3, 3)"
      ],
      "metadata": {
        "id": "2QIzyouZyYLE"
      },
      "execution_count": null,
      "outputs": []
    },
    {
      "cell_type": "code",
      "source": [
        "diagrams = ripser.ripser(torus, maxdim = 2)['dgms']"
      ],
      "metadata": {
        "id": "85h2yD_Utfib"
      },
      "execution_count": null,
      "outputs": []
    },
    {
      "cell_type": "code",
      "source": [
        "fig, axes = plt.subplots(nrows=1, ncols=3, figsize = (20,5))\n",
        "\n",
        "# Draw diagrams\n",
        "plt.sca(axes[0])\n",
        "plt.title('0-dim Diagram')\n",
        "Draw.drawDgm(diagrams[0])\n",
        "\n",
        "plt.sca(axes[1])\n",
        "plt.title('1-dim Diagram')\n",
        "Draw.drawDgm(diagrams[1])\n",
        "\n",
        "plt.sca(axes[2])\n",
        "plt.title('2-dim Diagram')\n",
        "Draw.drawDgm(diagrams[2])"
      ],
      "metadata": {
        "id": "t9wcRgPUuK8G"
      },
      "execution_count": null,
      "outputs": []
    },
    {
      "cell_type": "markdown",
      "source": [
        "### Distance between persistence diagrams"
      ],
      "metadata": {
        "id": "W1nWHyJUAU-a"
      }
    },
    {
      "cell_type": "code",
      "source": [
        "# Make three example point clouds \n",
        "r = 1\n",
        "R = 2\n",
        "P1 = makePtCloud.Annulus(N=200, r=r, R=R, seed=None) # teaspoon data generation\n",
        "P2 = makePtCloud.Annulus(N=200, r=r, R=R, seed=None)\n",
        "P2[:,1] += 6\n",
        "P3 = DoubleCircle()\n",
        "P3 *= 1.1\n",
        "P3[:,0] += 6\n",
        "P3[:,1] += 3"
      ],
      "metadata": {
        "id": "ljK5FOCiBDOb"
      },
      "execution_count": null,
      "outputs": []
    },
    {
      "cell_type": "code",
      "source": [
        "# plt.figure(figsize = (15,5))\n",
        "plt.scatter(P1[:,0],P1[:,1], label = 'P1')\n",
        "plt.scatter(P2[:,0],P2[:,1], label = 'P2')\n",
        "plt.scatter(P3[:,0],P3[:,1], label = 'P3')\n",
        "plt.axis('equal')\n",
        "plt.legend()"
      ],
      "metadata": {
        "id": "soHlEVdyBHxH"
      },
      "execution_count": null,
      "outputs": []
    },
    {
      "cell_type": "code",
      "source": [
        "# Compute their diagrams \n",
        "diagrams1 = ripser.ripser(P1)['dgms']\n",
        "diagrams2 = ripser.ripser(P2)['dgms']\n",
        "diagrams3 = ripser.ripser(P3)['dgms']\n",
        "\n",
        "Draw.drawDgm(diagrams1[1])\n",
        "Draw.drawDgm(diagrams2[1])\n",
        "Draw.drawDgm(diagrams3[1])"
      ],
      "metadata": {
        "id": "9CcR3G91BH_Q"
      },
      "execution_count": null,
      "outputs": []
    },
    {
      "cell_type": "markdown",
      "source": [
        "**Bottleneck distance**"
      ],
      "metadata": {
        "id": "v0ozRHLaBKMw"
      }
    },
    {
      "cell_type": "code",
      "source": [
        "# Compute bottleneck distance using scikit-tda\n",
        "distance_bottleneck, matching = persim.bottleneck(diagrams1[1], diagrams3[1], matching=True)\n",
        "persim.visuals.bottleneck_matching(diagrams1[1], diagrams3[1], matching, labels=['Clean $H_1$', 'Noisy $H_1$'])\n",
        "print('The bottleneck distance is', distance_bottleneck)\n",
        "# print(matching)\n",
        "# print(D)"
      ],
      "metadata": {
        "id": "hoXyPwkFBUcZ"
      },
      "execution_count": null,
      "outputs": []
    },
    {
      "cell_type": "code",
      "source": [
        "persim.bottleneck(diagrams1[1], diagrams2[1], matching=True)"
      ],
      "metadata": {
        "id": "1MoY9MRdCKrg"
      },
      "execution_count": null,
      "outputs": []
    },
    {
      "cell_type": "markdown",
      "source": [
        "### Computing Persistence on a Pairwise Distance/Similarity Matrix"
      ],
      "metadata": {
        "id": "HRPpnhWeCLJl"
      }
    },
    {
      "cell_type": "markdown",
      "source": [
        "For this tutorial, we will always use the clique complex, but there are other options available.\n",
        "\n",
        "Some examples of when we might want to compute persistence in this way:\n",
        "\n",
        "Input data with a distance/similarity matrix\n",
        "* Weighted graph where we set distance between non adjacent vertices to be np.inf-\n",
        "* Computing persistence for a weighted graph as the 1-skeleton"
      ],
      "metadata": {
        "id": "-SOXWWE9tVeJ"
      }
    },
    {
      "cell_type": "markdown",
      "source": [
        "![Google's logo](https://raw.githubusercontent.com/IlyaTrofimov/TDA_Sirius2022/df4c6d5cd4cf29327e1875a885dd05695e31f913/WeightedGraphCliqueExample.png)"
      ],
      "metadata": {
        "id": "FP58W2e2tX1F"
      }
    },
    {
      "cell_type": "code",
      "source": [
        "# Generate the distance matrix from the previous example\n",
        "D = np.array([[0, 1, np.inf, np.inf, 6],  [0, 0, 5, np.inf, np.inf],  [0, 0, 0, 2, 4],  [0, 0, 0, 0, 3],  [0, 0, 0, 0, 0]])\n",
        "D = D+D.T\n",
        "print(D)"
      ],
      "metadata": {
        "id": "ZDJ2sVKMtyKM"
      },
      "execution_count": null,
      "outputs": []
    },
    {
      "cell_type": "code",
      "source": [
        "diagrams = ripser.ripser(D, distance_matrix=True, maxdim=1)['dgms']\n",
        "print('0-Dim Diagram')\n",
        "print(diagrams[0])\n",
        "print('1-Dim Diagram')\n",
        "print(diagrams[1])"
      ],
      "metadata": {
        "id": "KXGMldl9t1TL"
      },
      "execution_count": null,
      "outputs": []
    },
    {
      "cell_type": "markdown",
      "source": [
        "**A bigger example with an Erdos-Renyii random graph**"
      ],
      "metadata": {
        "id": "zwPSIDcRvvHt"
      }
    },
    {
      "cell_type": "code",
      "source": [
        "# Drawing script for weighted graph\n",
        "def drawGraphEx(G):\n",
        "    #draw it!\n",
        "\n",
        "    pos = nx.spring_layout(G)  # positions for all nodes - seed for reproducibility\n",
        "\n",
        "    # nodes\n",
        "    nx.draw_networkx_nodes(G, pos, node_size=70)\n",
        "\n",
        "    # edges\n",
        "    nx.draw_networkx_edges(G, pos,  width=2)\n",
        "    # nx.draw_networkx_edges(\n",
        "    #     G, pos, edgelist=esmall, width=6, alpha=0.5, edge_color=\"b\", style=\"dashed\"\n",
        "    # )\n",
        "\n",
        "    # labels\n",
        "    # nx.draw_networkx_labels(G, pos, font_size=20, font_family=\"sans-serif\")\n",
        "    edge_labels=nx.draw_networkx_edge_labels(G,pos,edge_labels=nx.get_edge_attributes(G, 'weight'))"
      ],
      "metadata": {
        "id": "R0Qik4k-vJp0"
      },
      "execution_count": null,
      "outputs": []
    },
    {
      "cell_type": "code",
      "source": [
        "n = 10\n",
        "p = .3\n",
        "\n",
        "# Generate random graph \n",
        "G = nx.erdos_renyi_graph(n, p, seed=None, directed=False)\n",
        "\n",
        "m = len(G.edges)\n",
        "print('There are', m,'edges.')\n",
        "\n",
        "# Generate random edge weights in the interval [0,maxWeight]\n",
        "maxWeight = 100\n",
        "weights = np.random.randint(maxWeight, size = m)\n",
        "\n",
        "for i, e in enumerate(G.edges()):\n",
        "    G[e[0]][e[1]] ['weight'] = weights[i]\n",
        "    \n",
        "drawGraphEx(G)"
      ],
      "metadata": {
        "id": "2IWnGQlavPie"
      },
      "execution_count": null,
      "outputs": []
    },
    {
      "cell_type": "code",
      "source": [
        "A = nx.adjacency_matrix(G, weight = 'weight')\n",
        "A = A.todense() # Turn into dense matrix for ease of messing with it\n",
        "A = np.array(A) # Apparently I need to hand scikit-tda an array instead of a matrix, don't know why\n",
        "A = A.astype('float64') # Needed to let me put in np.inf\n",
        "A[ np.where(A == 0)] = np.inf\n",
        "np.fill_diagonal(A,0)\n",
        "\n",
        "im = plt.matshow(A, vmax = 100) # Note the np.inf values show up as white\n",
        "plt.colorbar(im)"
      ],
      "metadata": {
        "id": "AU7-cD8bvR1z"
      },
      "execution_count": null,
      "outputs": []
    },
    {
      "cell_type": "code",
      "source": [
        "diagrams = ripser.ripser(A, distance_matrix=True)['dgms']\n",
        "persim.plot_diagrams(diagrams)\n",
        "# print(diagrams)\n",
        "# print(diagrams)"
      ],
      "metadata": {
        "id": "jAIt-4hQvMwZ"
      },
      "execution_count": null,
      "outputs": []
    },
    {
      "cell_type": "markdown",
      "source": [
        "Application: graph classification"
      ],
      "metadata": {
        "id": "C-V1FFrKPv3m"
      }
    },
    {
      "cell_type": "markdown",
      "source": [
        "# Time-delay (Takens) Embedding"
      ],
      "metadata": {
        "id": "hB0iudYqtlnH"
      }
    },
    {
      "cell_type": "markdown",
      "source": [
        "**Periodic example**"
      ],
      "metadata": {
        "id": "HJ_PgnshQFMl"
      }
    },
    {
      "cell_type": "code",
      "source": [
        "import numpy as np\n",
        "import plotly.graph_objects as go\n",
        "\n",
        "x_periodic = np.linspace(0, 10, 1000)\n",
        "y_periodic = np.cos(5 * x_periodic)\n",
        "\n",
        "fig = go.Figure(data=go.Scatter(x=x_periodic, y=y_periodic))\n",
        "fig.update_layout(xaxis_title=\"Timestamp\", yaxis_title=\"Amplitude\")\n",
        "fig.show()"
      ],
      "metadata": {
        "id": "3xWyWhSwtd5S"
      },
      "execution_count": null,
      "outputs": []
    },
    {
      "cell_type": "code",
      "source": [
        "!pip install giotto-tda"
      ],
      "metadata": {
        "id": "v0K8X-HNEQFa"
      },
      "execution_count": null,
      "outputs": []
    },
    {
      "cell_type": "code",
      "source": [
        "from gtda.time_series import SingleTakensEmbedding\n",
        "\n",
        "embedding_dimension_periodic = 3\n",
        "embedding_time_delay_periodic = 8   # Time delay between two consecutive values for constructing one embedded point.\n",
        "stride = 10                         # Stride duration between two consecutive embedded points\n",
        "\n",
        "embedder_periodic = SingleTakensEmbedding(\n",
        "    parameters_type=\"fixed\",\n",
        "    n_jobs=2,\n",
        "    time_delay=embedding_time_delay_periodic,\n",
        "    dimension=embedding_dimension_periodic,\n",
        "    stride=stride,\n",
        ")"
      ],
      "metadata": {
        "id": "WoudWI9yDOhn"
      },
      "execution_count": null,
      "outputs": []
    },
    {
      "cell_type": "code",
      "source": [
        "y_periodic_embedded = embedder_periodic.fit_transform(y_periodic)\n",
        "print(f\"Shape of embedded time series: {y_periodic_embedded.shape}\")"
      ],
      "metadata": {
        "id": "IA4Uu3O7EJ8K"
      },
      "execution_count": null,
      "outputs": []
    },
    {
      "cell_type": "code",
      "source": [
        "from gtda.plotting import plot_point_cloud\n",
        "\n",
        "plot_point_cloud(y_periodic_embedded)"
      ],
      "metadata": {
        "id": "vVocy7AMFHy5"
      },
      "execution_count": null,
      "outputs": []
    },
    {
      "cell_type": "markdown",
      "source": [
        "**Non-periodic example**"
      ],
      "metadata": {
        "id": "N26BlHtcFO19"
      }
    },
    {
      "cell_type": "code",
      "source": [
        "x_nonperiodic = np.linspace(0, 50, 1000)\n",
        "y_nonperiodic = np.cos(x_nonperiodic) + np.cos(np.pi * x_nonperiodic)\n",
        "\n",
        "fig = go.Figure(data=go.Scatter(x=x_nonperiodic, y=y_nonperiodic))\n",
        "fig.update_layout(xaxis_title=\"Timestamp\", yaxis_title=\"Amplitude\")\n",
        "fig.show()"
      ],
      "metadata": {
        "id": "lY1z7Ht9Hjr0"
      },
      "execution_count": null,
      "outputs": []
    },
    {
      "cell_type": "code",
      "source": [
        "embedding_dimension_nonperiodic = 3\n",
        "embedding_time_delay_nonperiodic = 16\n",
        "stride = 3\n",
        "\n",
        "embedder_nonperiodic = SingleTakensEmbedding(\n",
        "    parameters_type=\"fixed\",\n",
        "    n_jobs=2,\n",
        "    time_delay=embedding_time_delay_nonperiodic,\n",
        "    dimension=embedding_dimension_nonperiodic,\n",
        "    stride=stride,\n",
        ")\n",
        "\n",
        "y_nonperiodic_embedded = embedder_nonperiodic.fit_transform(y_nonperiodic)\n",
        "\n",
        "plot_point_cloud(y_nonperiodic_embedded)\n"
      ],
      "metadata": {
        "id": "9-Leghi7ImTf"
      },
      "execution_count": null,
      "outputs": []
    },
    {
      "cell_type": "code",
      "source": [
        "y_periodic_embedded = y_periodic_embedded[None, :, :]\n",
        "y_nonperiodic_embedded = y_nonperiodic_embedded[None, :, :]"
      ],
      "metadata": {
        "id": "UsgYdvIbIpIk"
      },
      "execution_count": null,
      "outputs": []
    },
    {
      "cell_type": "code",
      "source": [
        "from gtda.homology import VietorisRipsPersistence\n",
        "\n",
        "# 0 - connected components, 1 - loops, 2 - voids\n",
        "homology_dimensions = [0, 1, 2]\n",
        "\n",
        "periodic_persistence = VietorisRipsPersistence(\n",
        "    homology_dimensions=homology_dimensions, n_jobs=6\n",
        ")\n",
        "print(\"Persistence diagram for periodic signal\")\n",
        "periodic_persistence.fit_transform_plot(y_periodic_embedded)\n",
        "\n",
        "nonperiodic_persistence = VietorisRipsPersistence(\n",
        "    homology_dimensions=homology_dimensions, n_jobs=6\n",
        ")\n",
        "print(\"Persistence diagram for nonperiodic signal\")\n",
        "nonperiodic_persistence.fit_transform_plot(y_nonperiodic_embedded);"
      ],
      "metadata": {
        "id": "ZT2CPIaxI8cp"
      },
      "execution_count": null,
      "outputs": []
    },
    {
      "cell_type": "markdown",
      "source": [
        "Applications of Takens embedding:\n",
        "* time-series classification\n",
        "* time-series forecasting\n",
        "* meta-learning"
      ],
      "metadata": {
        "id": "E_ZndJ7FJYlP"
      }
    }
  ]
}